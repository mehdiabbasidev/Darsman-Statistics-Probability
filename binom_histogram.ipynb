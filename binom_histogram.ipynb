{
 "cells": [
  {
   "cell_type": "code",
   "execution_count": 7,
   "id": "5130bbf0-f4aa-4e4e-a618-ef8c5f1944e5",
   "metadata": {},
   "outputs": [],
   "source": [
    "import numpy as np\n",
    "import pandas as pd\n",
    "import matplotlib.pylab as plt\n",
    "from scipy import stats"
   ]
  },
  {
   "cell_type": "markdown",
   "id": "107d046f-931e-4071-9c0f-9c9f61a2336a",
   "metadata": {},
   "source": [
    "### binomial discrete random variable"
   ]
  },
  {
   "cell_type": "code",
   "execution_count": 8,
   "id": "375be949-f6cf-4f79-90c7-ebb4c5407cf0",
   "metadata": {},
   "outputs": [
    {
     "data": {
      "text/plain": [
       "array([49, 50, 57, 51, 54, 54, 58, 47, 54, 47, 58, 46, 47, 46, 47, 59, 62,\n",
       "       51, 56, 47, 50, 56, 52, 50, 52, 46, 49, 46, 41, 50, 47, 55, 53, 52,\n",
       "       52, 57, 51, 57, 56, 56, 46, 52, 53, 42, 47, 47, 51, 56, 50, 42, 44,\n",
       "       51, 49, 43, 47, 53, 34, 54, 52, 36, 50, 58, 49, 42, 45, 53, 50, 56,\n",
       "       48, 44, 51, 48, 59, 53, 53, 54, 49, 43, 45, 46, 46, 55, 64, 48, 35,\n",
       "       48, 57, 47, 57, 53, 52, 61, 47, 53, 49, 53, 55, 51, 53, 55, 44, 56,\n",
       "       57, 53, 53, 54, 47, 46, 50, 59, 54, 48, 51, 57, 51, 45, 45, 51, 50,\n",
       "       52, 51, 51, 61, 53, 52, 49, 53, 57, 54, 49, 57, 53, 58, 39, 53, 48,\n",
       "       55, 43, 45, 61, 59, 56, 56, 47, 48, 50, 50, 52, 48, 50, 54, 54, 54,\n",
       "       50, 56, 48, 48, 60, 45, 51, 46, 56, 52, 40, 55, 52, 54, 41, 51, 48,\n",
       "       47, 48, 58, 49, 44, 50, 51, 55, 50, 48, 55, 60, 55, 47, 52, 50, 47,\n",
       "       43, 50, 57, 54, 55, 56, 48, 50, 45, 49, 56, 42, 50])"
      ]
     },
     "execution_count": 8,
     "metadata": {},
     "output_type": "execute_result"
    }
   ],
   "source": [
    "data=stats.binom.rvs(size=200,p=0.5,n=100,loc=0)\n",
    "data"
   ]
  },
  {
   "cell_type": "markdown",
   "id": "a0b841dd-08ea-4943-b381-64054a734b19",
   "metadata": {
    "tags": []
   },
   "source": [
    "### descriptive statistics "
   ]
  },
  {
   "cell_type": "code",
   "execution_count": 9,
   "id": "4abc57be-febf-4d0b-9175-d63a33496ce5",
   "metadata": {},
   "outputs": [
    {
     "name": "stdout",
     "output_type": "stream",
     "text": [
      "Mean :  50.845\n",
      "Median :  51.0\n",
      "Mode :  50\n",
      "Skew:  -0.33127253305054705\n",
      "Kurtosis:  0.38754740577742375\n"
     ]
    }
   ],
   "source": [
    "mean=np.mean(data)\n",
    "median=np.median(data)\n",
    "mode=stats.mode(data)[0][0]\n",
    "skew=stats.skew(data)\n",
    "kurtosis= stats.kurtosis(data)\n",
    "\n",
    "print(\"Mean : \",mean)\n",
    "print(\"Median : \",median)\n",
    "print(\"Mode : \",mode)\n",
    "print(\"Skew: \",skew)\n",
    "print(\"Kurtosis: \",kurtosis)"
   ]
  },
  {
   "cell_type": "markdown",
   "id": "7e0c92db-724b-4a90-8d7c-8ce35b3f7ca6",
   "metadata": {},
   "source": [
    "### histogram plot"
   ]
  },
  {
   "cell_type": "code",
   "execution_count": 12,
   "id": "5fed5994-0d94-457c-9005-9c07d9ef93c8",
   "metadata": {},
   "outputs": [
    {
     "data": {
      "image/png": "[encoded data removed]",
      "text/plain": [
       "<Figure size 432x288 with 1 Axes>"
      ]
     },
     "metadata": {
      "needs_background": "light"
     },
     "output_type": "display_data"
    }
   ],
   "source": [
    "plt.hist(x=data, bins='auto',alpha=0.9, rwidth=0.95, facecolor='yellow', edgecolor='black')\n",
    " \n",
    "plt.axvline(mean, color='r', linestyle='dashed', linewidth=1)\n",
    "plt.axvline(median, color='g', linestyle='dashed', linewidth=1)\n",
    "plt.axvline(mode, color='b', linestyle='dashed', linewidth=1)\n",
    "\n",
    "plt.text(mean, 40, f'Mean: {mean:.2f}', color='r')\n",
    "plt.text(median, 45, f'Median: {median:.2f}', color='g')\n",
    "plt.text(mode, 50, f'Mode: {mode:.2f}', color='b')\n",
    "\n",
    "plt.grid(axis='y', alpha=0.75)\n",
    "plt.ylim(ymax=60)\n",
    "plt.xlim(xmax=120)\n",
    "plt.show()\n"
   ]
  },
  {
   "cell_type": "code",
   "execution_count": null,
   "id": "ea85680e-3ea1-46d1-bd6e-65e6e711ac55",
   "metadata": {},
   "outputs": [],
   "source": []
  }
 ],
 "metadata": {
  "kernelspec": {
   "display_name": "Python 3 (ipykernel)",
   "language": "python",
   "name": "python3"
  },
  "language_info": {
   "codemirror_mode": {
    "name": "ipython",
    "version": 3
   },
   "file_extension": ".py",
   "mimetype": "text/x-python",
   "name": "python",
   "nbconvert_exporter": "python",
   "pygments_lexer": "ipython3",
   "version": "3.11.5"
  }
 },
 "nbformat": 4,
 "nbformat_minor": 5
}
