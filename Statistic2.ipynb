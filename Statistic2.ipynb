{
 "cells": [
  {
   "cell_type": "code",
   "execution_count": 2,
   "id": "cf0bb721-109c-45fa-b83f-87276b24303e",
   "metadata": {},
   "outputs": [],
   "source": [
    "import pandas as pd\n",
    "import numpy as np\n",
    "from scipy import stats"
   ]
  },
  {
   "cell_type": "code",
   "execution_count": 6,
   "id": "7222196b-0952-4eba-b850-f8a9aa088284",
   "metadata": {},
   "outputs": [
    {
     "data": {
      "text/html": [
       "<div>\n",
       "<style scoped>\n",
       "    .dataframe tbody tr th:only-of-type {\n",
       "        vertical-align: middle;\n",
       "    }\n",
       "\n",
       "    .dataframe tbody tr th {\n",
       "        vertical-align: top;\n",
       "    }\n",
       "\n",
       "    .dataframe thead th {\n",
       "        text-align: right;\n",
       "    }\n",
       "</style>\n",
       "<table border=\"1\" class=\"dataframe\">\n",
       "  <thead>\n",
       "    <tr style=\"text-align: right;\">\n",
       "      <th></th>\n",
       "      <th>Name</th>\n",
       "      <th>Age</th>\n",
       "      <th>height</th>\n",
       "      <th>Weight</th>\n",
       "      <th>Gender</th>\n",
       "      <th>Hobby</th>\n",
       "      <th>City</th>\n",
       "      <th>Education</th>\n",
       "      <th>MaritalStatus</th>\n",
       "      <th>Number of children</th>\n",
       "      <th>...</th>\n",
       "      <th>March income</th>\n",
       "      <th>April income</th>\n",
       "      <th>May income</th>\n",
       "      <th>June income</th>\n",
       "      <th>July income</th>\n",
       "      <th>August income</th>\n",
       "      <th>September income</th>\n",
       "      <th>October income</th>\n",
       "      <th>November income</th>\n",
       "      <th>December income</th>\n",
       "    </tr>\n",
       "  </thead>\n",
       "  <tbody>\n",
       "    <tr>\n",
       "      <th>0</th>\n",
       "      <td>Ali</td>\n",
       "      <td>25</td>\n",
       "      <td>124</td>\n",
       "      <td>69</td>\n",
       "      <td>Male</td>\n",
       "      <td>Music</td>\n",
       "      <td>Tehran</td>\n",
       "      <td>Bachelor</td>\n",
       "      <td>Single</td>\n",
       "      <td>0</td>\n",
       "      <td>...</td>\n",
       "      <td>1250</td>\n",
       "      <td>1800</td>\n",
       "      <td>1800</td>\n",
       "      <td>1800</td>\n",
       "      <td>1800</td>\n",
       "      <td>1800</td>\n",
       "      <td>1800</td>\n",
       "      <td>2100</td>\n",
       "      <td>2100</td>\n",
       "      <td>2500.0</td>\n",
       "    </tr>\n",
       "    <tr>\n",
       "      <th>1</th>\n",
       "      <td>Ahmad</td>\n",
       "      <td>30</td>\n",
       "      <td>206</td>\n",
       "      <td>88</td>\n",
       "      <td>Male</td>\n",
       "      <td>Sports</td>\n",
       "      <td>Shiraz</td>\n",
       "      <td>Master</td>\n",
       "      <td>Married</td>\n",
       "      <td>2</td>\n",
       "      <td>...</td>\n",
       "      <td>2400</td>\n",
       "      <td>2400</td>\n",
       "      <td>2400</td>\n",
       "      <td>2650</td>\n",
       "      <td>2650</td>\n",
       "      <td>2650</td>\n",
       "      <td>2650</td>\n",
       "      <td>2300</td>\n",
       "      <td>2200</td>\n",
       "      <td>2700.0</td>\n",
       "    </tr>\n",
       "    <tr>\n",
       "      <th>2</th>\n",
       "      <td>Sara</td>\n",
       "      <td>22</td>\n",
       "      <td>168</td>\n",
       "      <td>65Female</td>\n",
       "      <td>Movies</td>\n",
       "      <td>Esfahan</td>\n",
       "      <td>PhD</td>\n",
       "      <td>Single</td>\n",
       "      <td>0</td>\n",
       "      <td>1100</td>\n",
       "      <td>...</td>\n",
       "      <td>1800</td>\n",
       "      <td>1800</td>\n",
       "      <td>1950</td>\n",
       "      <td>2800</td>\n",
       "      <td>2200</td>\n",
       "      <td>2300</td>\n",
       "      <td>2300</td>\n",
       "      <td>2450</td>\n",
       "      <td>2450</td>\n",
       "      <td>NaN</td>\n",
       "    </tr>\n",
       "    <tr>\n",
       "      <th>3</th>\n",
       "      <td>Reza</td>\n",
       "      <td>35</td>\n",
       "      <td>178</td>\n",
       "      <td>94</td>\n",
       "      <td>Male</td>\n",
       "      <td>History</td>\n",
       "      <td>Tabriz</td>\n",
       "      <td>Bachelor</td>\n",
       "      <td>Married</td>\n",
       "      <td>1</td>\n",
       "      <td>...</td>\n",
       "      <td>2900</td>\n",
       "      <td>3100</td>\n",
       "      <td>2800</td>\n",
       "      <td>2800</td>\n",
       "      <td>2600</td>\n",
       "      <td>2600</td>\n",
       "      <td>2600</td>\n",
       "      <td>2400</td>\n",
       "      <td>2300</td>\n",
       "      <td>2300.0</td>\n",
       "    </tr>\n",
       "    <tr>\n",
       "      <th>4</th>\n",
       "      <td>Narges</td>\n",
       "      <td>28</td>\n",
       "      <td>159</td>\n",
       "      <td>57</td>\n",
       "      <td>Female</td>\n",
       "      <td>Travel</td>\n",
       "      <td>Mashhad</td>\n",
       "      <td>Master</td>\n",
       "      <td>Single</td>\n",
       "      <td>0</td>\n",
       "      <td>...</td>\n",
       "      <td>1950</td>\n",
       "      <td>2400</td>\n",
       "      <td>2400</td>\n",
       "      <td>2400</td>\n",
       "      <td>2600</td>\n",
       "      <td>4300</td>\n",
       "      <td>3100</td>\n",
       "      <td>4700</td>\n",
       "      <td>1520</td>\n",
       "      <td>1600.0</td>\n",
       "    </tr>\n",
       "  </tbody>\n",
       "</table>\n",
       "<p>5 rows × 22 columns</p>\n",
       "</div>"
      ],
      "text/plain": [
       "     Name  Age  height    Weight  Gender    Hobby     City Education  \\\n",
       "0     Ali   25     124        69    Male    Music   Tehran  Bachelor   \n",
       "1   Ahmad   30     206        88    Male   Sports   Shiraz    Master   \n",
       "2    Sara   22     168  65Female  Movies  Esfahan      PhD    Single   \n",
       "3    Reza   35     178        94    Male  History   Tabriz  Bachelor   \n",
       "4  Narges   28     159        57  Female   Travel  Mashhad    Master   \n",
       "\n",
       "  MaritalStatus  Number of children  ...  March income  April income  \\\n",
       "0        Single                   0  ...          1250          1800   \n",
       "1       Married                   2  ...          2400          2400   \n",
       "2             0                1100  ...          1800          1800   \n",
       "3       Married                   1  ...          2900          3100   \n",
       "4        Single                   0  ...          1950          2400   \n",
       "\n",
       "   May income  June income  July income  August income  September income  \\\n",
       "0        1800         1800         1800           1800              1800   \n",
       "1        2400         2650         2650           2650              2650   \n",
       "2        1950         2800         2200           2300              2300   \n",
       "3        2800         2800         2600           2600              2600   \n",
       "4        2400         2400         2600           4300              3100   \n",
       "\n",
       "   October income  November income  December income  \n",
       "0            2100             2100           2500.0  \n",
       "1            2300             2200           2700.0  \n",
       "2            2450             2450              NaN  \n",
       "3            2400             2300           2300.0  \n",
       "4            4700             1520           1600.0  \n",
       "\n",
       "[5 rows x 22 columns]"
      ]
     },
     "metadata": {},
     "output_type": "display_data"
    }
   ],
   "source": [
    "data=pd.read_csv('datasets/testdata.csv')\n",
    "display(data)"
   ]
  },
  {
   "cell_type": "code",
   "execution_count": 48,
   "id": "3f62c159-e0a3-4e19-ab83-885ff9c2bfe4",
   "metadata": {},
   "outputs": [
    {
     "data": {
      "text/plain": [
       "172.33333333333334"
      ]
     },
     "execution_count": 48,
     "metadata": {},
     "output_type": "execute_result"
    }
   ],
   "source": [
    "data['height'].mean()"
   ]
  },
  {
   "cell_type": "code",
   "execution_count": 49,
   "id": "c24ab2ee-6a52-45c4-b84d-bdaede457dba",
   "metadata": {},
   "outputs": [
    {
     "data": {
      "text/plain": [
       "176.0"
      ]
     },
     "execution_count": 49,
     "metadata": {},
     "output_type": "execute_result"
    }
   ],
   "source": [
    "data['height'].median()"
   ]
  },
  {
   "cell_type": "code",
   "execution_count": 50,
   "id": "e66efe70-4568-479c-a48a-eb22803919a9",
   "metadata": {},
   "outputs": [
    {
     "data": {
      "text/plain": [
       "0    173\n",
       "1    176\n",
       "2    184\n",
       "Name: height, dtype: int64"
      ]
     },
     "execution_count": 50,
     "metadata": {},
     "output_type": "execute_result"
    }
   ],
   "source": [
    "data['height'].mode()"
   ]
  },
  {
   "cell_type": "code",
   "execution_count": 54,
   "id": "b9a200b8-837c-40b8-8317-eb51a4d253a2",
   "metadata": {},
   "outputs": [
    {
     "data": {
      "text/plain": [
       "<AxesSubplot:>"
      ]
     },
     "execution_count": 54,
     "metadata": {},
     "output_type": "execute_result"
    },
    {
     "data": {
      "image/png": "[encoded data removed]",
      "text/plain": [
       "<Figure size 432x288 with 1 Axes>"
      ]
     },
     "metadata": {
      "needs_background": "light"
     },
     "output_type": "display_data"
    }
   ],
   "source": [
    "data['height'].hist(bins=[60,80,150,175,210])"
   ]
  },
  {
   "cell_type": "code",
   "execution_count": 55,
   "id": "fcfe808b-a8d9-4140-b40e-5709d01cacbd",
   "metadata": {},
   "outputs": [
    {
     "data": {
      "text/plain": [
       "28.536869855968273"
      ]
     },
     "execution_count": 55,
     "metadata": {},
     "output_type": "execute_result"
    }
   ],
   "source": [
    "data['height'].std()"
   ]
  },
  {
   "cell_type": "code",
   "execution_count": 56,
   "id": "8325539c-22a9-47e0-a4a7-e2ec81926f06",
   "metadata": {},
   "outputs": [
    {
     "data": {
      "text/plain": [
       "0.1655911210210925"
      ]
     },
     "execution_count": 56,
     "metadata": {},
     "output_type": "execute_result"
    }
   ],
   "source": [
    "data['height'].std()/data['height'].mean()"
   ]
  },
  {
   "cell_type": "code",
   "execution_count": 57,
   "id": "6675d745-f0c1-40ef-b6d1-e2648354a71e",
   "metadata": {},
   "outputs": [],
   "source": [
    "mean=data['height'].mean()\n",
    "std=data['height'].std()"
   ]
  },
  {
   "cell_type": "markdown",
   "id": "003e98ca-1864-454c-a9f6-7d56e9ee57a5",
   "metadata": {},
   "source": [
    "## بازه داده چوله"
   ]
  },
  {
   "cell_type": "code",
   "execution_count": 58,
   "id": "5826d3e2-bbdf-4a31-84a2-cef0d70014e2",
   "metadata": {},
   "outputs": [
    {
     "data": {
      "text/plain": [
       "143.79646347736508"
      ]
     },
     "execution_count": 58,
     "metadata": {},
     "output_type": "execute_result"
    }
   ],
   "source": [
    "mean-std"
   ]
  },
  {
   "cell_type": "code",
   "execution_count": 59,
   "id": "599cb096-4d86-4a42-91d6-b3169817f0ef",
   "metadata": {},
   "outputs": [
    {
     "data": {
      "text/plain": [
       "200.8702031893016"
      ]
     },
     "execution_count": 59,
     "metadata": {},
     "output_type": "execute_result"
    }
   ],
   "source": [
    "mean+std"
   ]
  },
  {
   "cell_type": "code",
   "execution_count": 60,
   "id": "b597cb58-0404-4251-858d-0817db35cdfb",
   "metadata": {},
   "outputs": [
    {
     "data": {
      "text/plain": [
       "-3.4121314406173493"
      ]
     },
     "execution_count": 60,
     "metadata": {},
     "output_type": "execute_result"
    }
   ],
   "source": [
    "data['height'].skew()"
   ]
  },
  {
   "cell_type": "code",
   "execution_count": null,
   "id": "30b00ab1-3a3c-488d-ada2-a1c4d257f005",
   "metadata": {},
   "outputs": [],
   "source": [
    "data['height'].kurtosis()"
   ]
  },
  {
   "cell_type": "code",
   "execution_count": null,
   "id": "eb2e879f-80c6-481f-b252-11ca5e3c0d1b",
   "metadata": {},
   "outputs": [],
   "source": [
    "data['age'].kurtosis()"
   ]
  },
  {
   "cell_type": "code",
   "execution_count": null,
   "id": "24ddf7ee-8dc7-498d-8a57-f85bef3a48bf",
   "metadata": {},
   "outputs": [],
   "source": []
  }
 ],
 "metadata": {
  "kernelspec": {
   "display_name": "Python 3 (ipykernel)",
   "language": "python",
   "name": "python3"
  },
  "language_info": {
   "codemirror_mode": {
    "name": "ipython",
    "version": 3
   },
   "file_extension": ".py",
   "mimetype": "text/x-python",
   "name": "python",
   "nbconvert_exporter": "python",
   "pygments_lexer": "ipython3",
   "version": "3.11.5"
  }
 },
 "nbformat": 4,
 "nbformat_minor": 5
}
