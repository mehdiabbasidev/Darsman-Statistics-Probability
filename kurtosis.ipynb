{
 "cells": [
  {
   "cell_type": "code",
   "execution_count": 9,
   "id": "054f9c94-7541-4f0d-9965-c191f3737d51",
   "metadata": {},
   "outputs": [],
   "source": [
    "import numpy as np\n",
    "import pandas as pd\n",
    "import matplotlib.pylab as plt\n",
    "from scipy import stats"
   ]
  },
  {
   "cell_type": "code",
   "execution_count": 10,
   "id": "576e3e86-4d91-46ba-a777-bcad4c9ac1cd",
   "metadata": {},
   "outputs": [
    {
     "name": "stdout",
     "output_type": "stream",
     "text": [
      "[31 26 28 28 29 32 29 33 36 25 28 31 29 26 28 37 32 33 26 30 32 27 25 30\n",
      " 27 30 34 30 27 28 33 31 31 27 27 31 29 32 32 26 30 35 30 29 33 24 27 32\n",
      " 30 23 38 29 30 31 30 29 34 30 32 35 31 28 32 28 29 28 30 26 43 28 31 28\n",
      " 32 35 30 30 30 30 33 34 31 33 33 35 28 28 29 29 33 35 32 29 27 26 29 32\n",
      " 25 33 30 31 27 28 34 36 28 31 36 28 32 30 37 29 33 27 31 34 28 35 33 30\n",
      " 35 33 32 29 26 35 35 26 34 26 29 27 28 28 25 30 29 31 28 26 31 28 39 31\n",
      " 31 33 29 26 30 33 31 27 27 29 28 32 33 32 26 27 28 30 31 31 28 34 28 30\n",
      " 25 28 29 26 28 24 27 28 26 29 28 27 31 29 34 30 34 33 28 23 30 38 34 26\n",
      " 35 27 31 27 32 33 28 29]\n"
     ]
    }
   ],
   "source": [
    "#np.random.seed(0)\n",
    "data=stats.poisson.rvs(size=200, mu=10,loc=20 )\n",
    "print(data)"
   ]
  },
  {
   "cell_type": "code",
   "execution_count": 11,
   "id": "164da5a1-c41d-441e-9b84-eaf69777d061",
   "metadata": {},
   "outputs": [
    {
     "name": "stdout",
     "output_type": "stream",
     "text": [
      "Mean :  30.1\n",
      "Median :  30.0\n",
      "Mode :  28\n",
      "Skew:  0.5656692155989105\n",
      "Kurtosis:  0.6330690922801385\n"
     ]
    }
   ],
   "source": [
    "mean=np.mean(data)\n",
    "median=np.median(data)\n",
    "mode=stats.mode(data)[0][0]\n",
    "skew=stats.skew(data)\n",
    "kurtosis= stats.kurtosis(data)\n",
    "\n",
    "print(\"Mean : \",mean)\n",
    "print(\"Median : \",median)\n",
    "print(\"Mode : \",mode)\n",
    "print(\"Skew: \",skew)\n",
    "print(\"Kurtosis: \",kurtosis)\n"
   ]
  },
  {
   "cell_type": "code",
   "execution_count": 12,
   "id": "11048fca-d30f-4a2a-95fe-1c37861046c2",
   "metadata": {},
   "outputs": [
    {
     "data": {
      "image/png": "[encoded data removed]",
      "text/plain": [
       "<Figure size 432x288 with 1 Axes>"
      ]
     },
     "metadata": {
      "needs_background": "light"
     },
     "output_type": "display_data"
    }
   ],
   "source": [
    "plt.hist(x=data, bins='auto',alpha=0.9, rwidth=0.95, facecolor='yellow', edgecolor='black')\n",
    "\n",
    "plt.axvline(mean, color='r', linestyle='dashed', linewidth=1)\n",
    "plt.axvline(median, color='g', linestyle='dashed', linewidth=1)\n",
    "plt.axvline(mode, color='b', linestyle='dashed', linewidth=1)\n",
    "plt.text(mean, 40, f'Mean: {mean:.2f}', color='r')\n",
    "plt.text(median, 45, f'Median: {median:.2f}', color='g')\n",
    "plt.text(mode, 50, f'Mode: {mode:.2f}', color='b')\n",
    "\n",
    "plt.grid(axis='y', alpha=0.75)\n",
    "plt.ylim(ymax=80)\n",
    "plt.xlim(xmax=80)\n",
    "plt.show()\n"
   ]
  },
  {
   "cell_type": "code",
   "execution_count": null,
   "id": "0a3f0788-a83f-49cf-a299-aa727c749b92",
   "metadata": {},
   "outputs": [],
   "source": []
  }
 ],
 "metadata": {
  "kernelspec": {
   "display_name": "Python 3 (ipykernel)",
   "language": "python",
   "name": "python3"
  },
  "language_info": {
   "codemirror_mode": {
    "name": "ipython",
    "version": 3
   },
   "file_extension": ".py",
   "mimetype": "text/x-python",
   "name": "python",
   "nbconvert_exporter": "python",
   "pygments_lexer": "ipython3",
   "version": "3.11.5"
  }
 },
 "nbformat": 4,
 "nbformat_minor": 5
}
