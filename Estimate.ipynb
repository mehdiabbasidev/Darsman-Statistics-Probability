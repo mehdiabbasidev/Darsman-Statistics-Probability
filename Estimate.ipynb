{
  "cells": [
    {
      "cell_type": "markdown",
      "metadata": {
        "id": "knYn0_6L1wCK"
      },
      "source": [
        "##### Mount To Google Drive"
      ]
    },
    {
      "cell_type": "code",
      "execution_count": null,
      "metadata": {
        "id": "1qZC46c41yho"
      },
      "outputs": [],
      "source": [
        "from google.colab import drive\n",
        "drive.mount('/content/drive')"
      ]
    },
    {
      "cell_type": "markdown",
      "source": [
        "# Estimate Parameters"
      ],
      "metadata": {
        "id": "k1VcaaebhCTL"
      }
    },
    {
      "cell_type": "markdown",
      "source": [
        "## EX1 : Sample Distribution"
      ],
      "metadata": {
        "id": "nduPV10MqTHL"
      }
    },
    {
      "cell_type": "markdown",
      "source": [
        "### Import Library"
      ],
      "metadata": {
        "id": "cZC8P7ELYi3j"
      }
    },
    {
      "cell_type": "code",
      "execution_count": null,
      "metadata": {
        "id": "X6yIu44A18mI"
      },
      "outputs": [],
      "source": [
        "import pandas as pd\n",
        "import numpy as np\n",
        "import matplotlib.pyplot as plt\n",
        "from scipy.stats import norm"
      ]
    },
    {
      "cell_type": "markdown",
      "source": [
        "### Building Population Dataset"
      ],
      "metadata": {
        "id": "F8D4d8_efe8B"
      }
    },
    {
      "cell_type": "code",
      "source": [
        "population_mean = 170\n",
        "population_std = 5\n",
        "population_size = 10000\n",
        "population = np.random.normal(population_mean, population_std, population_size)\n",
        "population"
      ],
      "metadata": {
        "id": "wNJ1erc_feR0",
        "colab": {
          "base_uri": "https://localhost:8080/"
        },
        "outputId": "4aed0893-3ebc-46e1-daf1-97529730ee11"
      },
      "execution_count": null,
      "outputs": [
        {
          "output_type": "execute_result",
          "data": {
            "text/plain": [
              "array([166.26384964, 167.98021062, 175.97346902, ..., 172.82300517,\n",
              "       166.84503951, 169.3730829 ])"
            ]
          },
          "metadata": {},
          "execution_count": 16
        }
      ]
    },
    {
      "cell_type": "markdown",
      "source": [
        "### Sample selection and mean calculation of each sample"
      ],
      "metadata": {
        "id": "qgTa4ov8fpl6"
      }
    },
    {
      "cell_type": "code",
      "source": [
        "num_samples = 500\n",
        "sample_size = 30\n",
        "sample_means = []\n",
        "for _ in range(num_samples):\n",
        "    sample = np.random.choice(population, size=sample_size, replace=False)\n",
        "    sample_mean = np.mean(sample)\n",
        "    sample_means.append(sample_mean)\n",
        "sample_means"
      ],
      "metadata": {
        "id": "dMWgJGuZfnFi"
      },
      "execution_count": null,
      "outputs": []
    },
    {
      "cell_type": "markdown",
      "source": [
        "### Calculate the mean and standard deviation of the sample distribution"
      ],
      "metadata": {
        "id": "4KlrmKEogY4Z"
      }
    },
    {
      "cell_type": "code",
      "source": [
        "estimated_mean = np.mean(sample_means)\n",
        "estimated_mean"
      ],
      "metadata": {
        "id": "imPy1sMvgXep",
        "colab": {
          "base_uri": "https://localhost:8080/"
        },
        "outputId": "38419b0e-0300-4032-d04b-8c7bb7136c49"
      },
      "execution_count": null,
      "outputs": [
        {
          "output_type": "execute_result",
          "data": {
            "text/plain": [
              "169.87402132632238"
            ]
          },
          "metadata": {},
          "execution_count": 41
        }
      ]
    },
    {
      "cell_type": "code",
      "source": [
        "estimated_std=np.std(sample_means)\n",
        "estimated_std"
      ],
      "metadata": {
        "colab": {
          "base_uri": "https://localhost:8080/"
        },
        "id": "CL3rzqBxUCdQ",
        "outputId": "6b7b3a47-457b-4654-ee84-9ce31a329089"
      },
      "execution_count": null,
      "outputs": [
        {
          "output_type": "execute_result",
          "data": {
            "text/plain": [
              "0.8691834452634328"
            ]
          },
          "metadata": {},
          "execution_count": 42
        }
      ]
    },
    {
      "cell_type": "markdown",
      "source": [
        "### Checking the sample distribution using normal distribution"
      ],
      "metadata": {
        "id": "WmBgZxergqI6"
      }
    },
    {
      "cell_type": "code",
      "source": [
        "x = np.linspace(estimated_mean - 3 * estimated_std, estimated_mean + 3 * estimated_std, 1000)\n",
        "x"
      ],
      "metadata": {
        "id": "NX5NgiITgiKS"
      },
      "execution_count": null,
      "outputs": []
    },
    {
      "cell_type": "code",
      "source": [
        "y = norm.pdf(x, estimated_mean, estimated_std)\n",
        "y"
      ],
      "metadata": {
        "id": "UwDtNOiHUS5X"
      },
      "execution_count": null,
      "outputs": []
    },
    {
      "cell_type": "markdown",
      "source": [
        "### sample distribution diagram"
      ],
      "metadata": {
        "id": "-G5iyYnKg6C6"
      }
    },
    {
      "cell_type": "code",
      "execution_count": null,
      "metadata": {
        "id": "yACxv36E1Xar",
        "colab": {
          "base_uri": "https://localhost:8080/",
          "height": 522
        },
        "outputId": "f161c98c-bb7c-45d0-a87e-e05223952f3e"
      },
      "outputs": [
        {
          "output_type": "display_data",
          "data": {
            "text/plain": [
              "<Figure size 1000x600 with 1 Axes>"
            ],
            "image/png": "[encoded data removed]"
          },
          "metadata": {}
        }
      ],
      "source": [
        "plt.figure(figsize=(10, 6))\n",
        "plt.hist(sample_means, bins=30, color='green',  density=True,rwidth=0.9)\n",
        "plt.plot(x, y, color='red', linewidth=2)\n",
        "plt.show()\n"
      ]
    },
    {
      "cell_type": "markdown",
      "source": [
        "## EX2 : Sample Distribution"
      ],
      "metadata": {
        "id": "lWQ4BJ3iq6-C"
      }
    },
    {
      "cell_type": "markdown",
      "source": [
        "### Import Library"
      ],
      "metadata": {
        "id": "Ff4jB6wPrXqJ"
      }
    },
    {
      "cell_type": "code",
      "source": [
        "import numpy as np\n",
        "import matplotlib.pyplot as plt"
      ],
      "metadata": {
        "id": "ip42YtpirJ_K"
      },
      "execution_count": null,
      "outputs": []
    },
    {
      "cell_type": "markdown",
      "source": [
        "### Building Population Dataset"
      ],
      "metadata": {
        "id": "k0TGMxV2rbM6"
      }
    },
    {
      "cell_type": "code",
      "source": [
        "population_mean = 50"
      ],
      "metadata": {
        "id": "B6iXcmBdrN8q"
      },
      "execution_count": null,
      "outputs": []
    },
    {
      "cell_type": "markdown",
      "source": [
        "### Generating samples, calculating their mean and calculating the mean of means"
      ],
      "metadata": {
        "id": "u0RKf0durh5C"
      }
    },
    {
      "cell_type": "code",
      "source": [
        "num_samples = 1000\n",
        "samples = np.random.normal(loc=population_mean, scale=10, size=(num_samples, 100))\n",
        "sample_means = np.mean(samples)\n",
        "estimated_mean = np.mean(sample_means)\n",
        "print(f\"Population Mean: {population_mean}\")\n",
        "print(f\"Estimated Mean : {estimated_mean}\")"
      ],
      "metadata": {
        "id": "-ZhxQHACrPRK",
        "colab": {
          "base_uri": "https://localhost:8080/"
        },
        "outputId": "99f38509-3ac7-4b18-d0bc-816cee855dab"
      },
      "execution_count": null,
      "outputs": [
        {
          "output_type": "stream",
          "name": "stdout",
          "text": [
            "Population Mean: 50\n",
            "Estimated Mean : 49.97640029685396\n"
          ]
        }
      ]
    },
    {
      "cell_type": "markdown",
      "source": [
        "### sample distribution diagram"
      ],
      "metadata": {
        "id": "nmsu4j80sLLq"
      }
    },
    {
      "cell_type": "code",
      "source": [
        "plt.figure(figsize=(10, 6))\n",
        "plt.hist(samples, bins=30)\n",
        "plt.show()"
      ],
      "metadata": {
        "id": "eWVtYiXkq8kT",
        "colab": {
          "base_uri": "https://localhost:8080/",
          "height": 522
        },
        "outputId": "ed2c2ffd-94e5-4ae2-d933-c4e77cde5f56"
      },
      "execution_count": null,
      "outputs": [
        {
          "output_type": "display_data",
          "data": {
            "text/plain": [
              "<Figure size 1000x600 with 1 Axes>"
            ],
            "image/png": "[encoded data removed]"
          },
          "metadata": {}
        }
      ]
    },
    {
      "cell_type": "markdown",
      "source": [
        "\n",
        "\n",
        "---\n",
        "\n",
        "\n",
        "\n",
        "---\n",
        "\n",
        "\n",
        "\n",
        "---\n",
        "\n",
        "\n",
        "\n",
        "---\n",
        "\n"
      ],
      "metadata": {
        "id": "Te2k9OEPVimf"
      }
    },
    {
      "cell_type": "markdown",
      "source": [
        "## EX 3 : Point Estimators"
      ],
      "metadata": {
        "id": "hcwnD1P-sa-r"
      }
    },
    {
      "cell_type": "markdown",
      "source": [
        "### Import Library"
      ],
      "metadata": {
        "id": "hIs28jfUskb6"
      }
    },
    {
      "cell_type": "code",
      "source": [
        "import numpy as np"
      ],
      "metadata": {
        "id": "wxYW4uZftC1l"
      },
      "execution_count": null,
      "outputs": []
    },
    {
      "cell_type": "markdown",
      "source": [
        "### Building Population Dataset"
      ],
      "metadata": {
        "id": "BE2NhRTktTnr"
      }
    },
    {
      "cell_type": "code",
      "source": [
        "population_data = np.random.normal(loc=50, scale=10, size=100)\n",
        "population_mean=np.mean(population_data)\n",
        "population_std=np.std(population_data, ddof=1)"
      ],
      "metadata": {
        "id": "oRIRspA5tWfq",
        "colab": {
          "base_uri": "https://localhost:8080/"
        },
        "outputId": "f83dcef3-9706-4e4d-b692-3b2b780a87da"
      },
      "execution_count": null,
      "outputs": [
        {
          "output_type": "execute_result",
          "data": {
            "text/plain": [
              "9.533536905988825"
            ]
          },
          "metadata": {},
          "execution_count": 60
        }
      ]
    },
    {
      "cell_type": "markdown",
      "source": [
        "### Selecting the sample and calculating its mean and standard deviation"
      ],
      "metadata": {
        "id": "QQIhyM4Cteaq"
      }
    },
    {
      "cell_type": "code",
      "source": [
        "sample_size = 30\n",
        "sample = np.random.choice(population_data, size=sample_size, replace=False)\n",
        "sample_mean = np.mean(sample)\n",
        "sample_std = np.std(sample, ddof=1)\n",
        "\n",
        "print(f\"sample : {sample}\")\n",
        "print(f\"sample_mean : {sample_mean}\")\n",
        "print(f\"sample_std : {sample_std}\")"
      ],
      "metadata": {
        "id": "JaegHDhksmO6",
        "colab": {
          "base_uri": "https://localhost:8080/"
        },
        "outputId": "c4b38a6e-0fd9-4052-e3ab-527e195cc82b"
      },
      "execution_count": null,
      "outputs": [
        {
          "output_type": "stream",
          "name": "stdout",
          "text": [
            "sample : [43.90313358 61.53850423 57.72761157 46.65127212 55.10859584 44.89290529\n",
            " 55.20384635 48.79973997 56.2661541  40.00683465 48.67152556 61.93877153\n",
            " 53.78460364 39.86872391 55.42119469 42.24184695 63.30332211 37.90186805\n",
            " 52.47873937 58.20633667 43.56073739 64.37542869 48.68603822 56.72950143\n",
            " 73.93708127 52.60743069 63.67568503 45.06583241 56.32323461 39.77514421]\n",
            "sample_mean : 52.28838813735613\n",
            "sample_std : 8.871602044555676\n"
          ]
        }
      ]
    },
    {
      "cell_type": "markdown",
      "source": [
        "### Show results"
      ],
      "metadata": {
        "id": "eSXTwSydS-8A"
      }
    },
    {
      "cell_type": "code",
      "source": [
        "print(f\"population_mean : {population_mean:.2f}\")\n",
        "print(f\"sample_mean : {sample_mean:.2f}\")\n",
        "print(f\"population_std : {population_std:.2f}\")\n",
        "print(f\"sample_std : {sample_std:.2f}\")"
      ],
      "metadata": {
        "id": "OPNksl_ss3cI"
      },
      "execution_count": null,
      "outputs": []
    },
    {
      "cell_type": "markdown",
      "source": [
        "\n",
        "\n",
        "---\n",
        "\n",
        "\n",
        "\n",
        "---\n",
        "\n",
        "\n",
        "\n",
        "---"
      ],
      "metadata": {
        "id": "6BsOcBU4VmAg"
      }
    },
    {
      "cell_type": "markdown",
      "source": [
        "## EX 4 : Interval Estimators"
      ],
      "metadata": {
        "id": "bJB3OqI_wBaV"
      }
    },
    {
      "cell_type": "markdown",
      "source": [
        "### Import Library"
      ],
      "metadata": {
        "id": "eplg2njywoLS"
      }
    },
    {
      "cell_type": "code",
      "source": [
        "import numpy as np\n",
        "from scipy.stats import norm"
      ],
      "metadata": {
        "id": "mppACXMXu4HS"
      },
      "execution_count": null,
      "outputs": []
    },
    {
      "cell_type": "markdown",
      "source": [
        "### Building Population Dataset"
      ],
      "metadata": {
        "id": "_XEjvJIfw7Vq"
      }
    },
    {
      "cell_type": "code",
      "source": [
        "np.random.seed(0)\n",
        "population_data = np.random.normal(loc=5, scale=2, size=100)\n",
        "population_mean = np.mean(population_data)\n",
        "population_std = np.std(population_data)\n",
        "print(f\"population_data : {population_data}\")\n",
        "print(f\"population_mean : {population_mean}\")\n",
        "print(f\"population_std : {population_std}\")"
      ],
      "metadata": {
        "id": "uLTNhWADw5Vf",
        "colab": {
          "base_uri": "https://localhost:8080/"
        },
        "outputId": "c48d1785-7a1a-463d-8930-a0741835ea79"
      },
      "execution_count": null,
      "outputs": [
        {
          "output_type": "stream",
          "name": "stdout",
          "text": [
            "population_data : [ 8.52810469  5.80031442  6.95747597  9.4817864   8.73511598  3.04544424\n",
            "  6.90017684  4.69728558  4.7935623   5.821197    5.28808714  7.90854701\n",
            "  6.52207545  5.24335003  5.88772647  5.66734865  7.98815815  4.58968347\n",
            "  5.6261354   3.29180852 -0.10597963  6.30723719  6.7288724   3.51566996\n",
            "  9.53950925  2.09126865  5.09151703  4.6256323   8.06555843  7.93871754\n",
            "  5.30989485  5.75632504  3.2244285   1.03840706  4.3041757   5.31269794\n",
            "  7.46058136  7.4047597   4.22534637  4.3953945   2.90289407  2.15996413\n",
            "  1.58745962  8.90155079  3.98069564  4.1238514   2.49440928  6.55498071\n",
            "  1.7722043   4.57451944  3.20906688  5.773805    3.97838972  2.63873563\n",
            "  4.94363554  5.85666374  5.13303444  5.6049438   3.73135581  4.27451767\n",
            "  3.6550791   4.28089368  3.37370744  1.5474348   5.35485228  4.19643813\n",
            "  1.73960331  5.92556451  3.18540327  5.10389079  6.45818112  5.25796582\n",
            "  7.27880137  2.53034836  5.80468328  3.63037982  3.2584057   3.84230067\n",
            "  4.37689494  5.11233068  2.66970032  6.80165297  5.93132488  1.92751263\n",
            "  7.97650439  8.79177835  7.35755914  4.64015033  2.85849476  7.10890345\n",
            "  4.19364611  7.44489014  5.41654996  6.95327807  5.71273279  6.41314634\n",
            "  5.02100004  8.57174099  5.25382419  5.80397873]\n",
            "population_mean : 5.11961603106897\n",
            "population_std : 2.0157644894331592\n"
          ]
        }
      ]
    },
    {
      "cell_type": "markdown",
      "source": [
        "### Calculation of point estimators"
      ],
      "metadata": {
        "id": "Xb5XuY2Yxdha"
      }
    },
    {
      "cell_type": "code",
      "source": [
        "sample_size=30\n",
        "sample = np.random.choice(population_data, size=sample_size, replace=False)\n",
        "sample_mean = np.mean(sample)\n",
        "sample_std = np.std(sample)\n",
        "print(f\"sample : {sample}\")\n",
        "print(f\"sample_mean : {sample_mean}\")\n",
        "print(f\"sample_std : {sample_std}\")"
      ],
      "metadata": {
        "id": "ddThp7r2xLzg",
        "colab": {
          "base_uri": "https://localhost:8080/"
        },
        "outputId": "8792be4d-7ab1-4850-f7a2-d9f40c19f952"
      },
      "execution_count": null,
      "outputs": [
        {
          "output_type": "stream",
          "name": "stdout",
          "text": [
            "sample : [3.29180852 6.90017684 4.1238514  5.6049438  6.7288724  2.09126865\n",
            " 1.7722043  5.30989485 4.27451767 2.53034836 5.66734865 6.52207545\n",
            " 4.57451944 6.41314634 5.88772647 3.20906688 7.10890345 1.58745962\n",
            " 3.97838972 7.46058136 8.73511598 4.37689494 5.80468328 6.55498071\n",
            " 3.18540327 4.58968347 1.92751263 4.7935623  7.98815815 2.85849476]\n",
            "sample_mean : 4.861719788159109\n",
            "sample_std : 1.929326149189038\n"
          ]
        }
      ]
    },
    {
      "cell_type": "markdown",
      "source": [
        "### Calculation of z-score and margin of error and confidence interval"
      ],
      "metadata": {
        "id": "YbXxHJehRnUx"
      }
    },
    {
      "cell_type": "code",
      "source": [
        "confidence_level = 0.95\n",
        "print(((1 + confidence_level) / 2))\n",
        "z_score = norm.ppf((1 + confidence_level) / 2)\n",
        "margin_of_error = z_score * sample_std / np.sqrt(sample_size)\n",
        "margin_of_error\n",
        "confidence_interval = (sample_mean - margin_of_error, sample_mean + margin_of_error)\n",
        "confidence_interval"
      ],
      "metadata": {
        "id": "8dXnqpHgx1EW",
        "colab": {
          "base_uri": "https://localhost:8080/"
        },
        "outputId": "abc0f9a6-3d2e-46d9-9ab3-6f14e83f4add"
      },
      "execution_count": null,
      "outputs": [
        {
          "output_type": "stream",
          "name": "stdout",
          "text": [
            "0.975\n"
          ]
        },
        {
          "output_type": "execute_result",
          "data": {
            "text/plain": [
              "(4.17133197866923, 5.552107597648989)"
            ]
          },
          "metadata": {},
          "execution_count": 68
        }
      ]
    },
    {
      "cell_type": "markdown",
      "source": [
        "### Show results"
      ],
      "metadata": {
        "id": "qyVT9jxlR-7R"
      }
    },
    {
      "cell_type": "code",
      "source": [
        "print(f\"population_mean : {population_mean}\")\n",
        "print(f\"population_std : {population_std}\")\n",
        "\n",
        "print(f\"sample_mean : {sample_mean}\")\n",
        "print(f\"sample_std : {sample_std}\")\n",
        "\n",
        "print(f\"z_score : {z_score}\")\n",
        "print(f\"margin_of_error : {margin_of_error}\")\n",
        "print(f\"confidence_interval : {confidence_interval}\")"
      ],
      "metadata": {
        "id": "Ccl16G9czWEL",
        "colab": {
          "base_uri": "https://localhost:8080/"
        },
        "outputId": "3792e6c5-fcd9-41ff-e5d2-16d3342e9338"
      },
      "execution_count": null,
      "outputs": [
        {
          "output_type": "stream",
          "name": "stdout",
          "text": [
            "population_mean : 5.11961603106897\n",
            "population_std : 2.0157644894331592\n",
            "sample_mean : 4.861719788159109\n",
            "sample_std : 1.929326149189038\n",
            "z_score : 1.959963984540054\n",
            "margin_of_error : 0.6903878094898802\n",
            "confidence_interval : (4.17133197866923, 5.552107597648989)\n"
          ]
        }
      ]
    },
    {
      "cell_type": "markdown",
      "source": [
        "\n",
        "\n",
        "---\n",
        "\n",
        "\n",
        "\n",
        "---\n",
        "\n",
        "\n",
        "\n",
        "---\n",
        "\n",
        "\n",
        "\n",
        "---\n",
        "\n"
      ],
      "metadata": {
        "id": "ZDZDYCDyV5RY"
      }
    },
    {
      "cell_type": "markdown",
      "source": [
        "## EX5 : Standard Error of the Mean"
      ],
      "metadata": {
        "id": "3jkBdfJFWbJA"
      }
    },
    {
      "cell_type": "code",
      "source": [
        "import numpy as np\n",
        "np.random.seed(42)\n",
        "sample = np.random.normal(loc=50, scale=10, size=100)\n",
        "standard_error = np.std(sample, ddof=1) / np.sqrt(len(sample))\n",
        "print(f\"Sample : {sample}\")\n",
        "print(f\"SE : {standard_error}\")"
      ],
      "metadata": {
        "id": "hjZo-oz3SSwt",
        "colab": {
          "base_uri": "https://localhost:8080/"
        },
        "outputId": "b460fb46-64b7-4f78-ee5b-8c03aa35d4b6"
      },
      "execution_count": null,
      "outputs": [
        {
          "output_type": "stream",
          "name": "stdout",
          "text": [
            "Sample : [54.96714153 48.61735699 56.47688538 65.23029856 47.65846625 47.65863043\n",
            " 65.79212816 57.67434729 45.30525614 55.42560044 45.36582307 45.34270246\n",
            " 52.41962272 30.86719755 32.75082167 44.37712471 39.8716888  53.14247333\n",
            " 40.91975924 35.87696299 64.65648769 47.742237   50.67528205 35.75251814\n",
            " 44.55617275 51.1092259  38.49006423 53.75698018 43.9936131  47.0830625\n",
            " 43.98293388 68.52278185 49.86502775 39.42289071 58.22544912 37.7915635\n",
            " 52.08863595 30.40329876 36.71813951 51.96861236 57.3846658  51.71368281\n",
            " 48.84351718 46.98896304 35.2147801  42.80155792 45.39361229 60.57122226\n",
            " 53.4361829  32.36959845 53.24083969 46.1491772  43.23078    56.11676289\n",
            " 60.30999522 59.31280119 41.60782477 46.90787624 53.31263431 59.75545127\n",
            " 45.20825762 48.14341023 38.93665026 38.03793376 58.12525822 63.56240029\n",
            " 49.27989878 60.03532898 53.61636025 43.54880245 53.61395606 65.38036566\n",
            " 49.64173961 65.64643656 23.80254896 58.21902504 50.87047068 47.0099265\n",
            " 50.91760777 30.12431085 47.80328112 53.57112572 64.77894045 44.81729782\n",
            " 41.91506397 44.98242956 59.15402118 53.2875111  44.70239796 55.13267433\n",
            " 50.97077549 59.68644991 42.97946906 46.72337853 46.07891847 35.36485052\n",
            " 52.96120277 52.61055272 50.05113457 47.65412867]\n",
            "SE : 0.9081684280078008\n"
          ]
        }
      ]
    },
    {
      "cell_type": "markdown",
      "source": [
        "\n",
        "\n",
        "---\n",
        "\n",
        "\n",
        "\n",
        "---\n",
        "\n",
        "\n",
        "\n",
        "---\n",
        "\n",
        "\n",
        "\n",
        "---\n",
        "\n"
      ],
      "metadata": {
        "id": "hBvkGi3JV98f"
      }
    },
    {
      "cell_type": "markdown",
      "source": [
        "## EX6 : Standard Error of the Mean"
      ],
      "metadata": {
        "id": "ewdofCqJW9rv"
      }
    },
    {
      "cell_type": "code",
      "source": [
        "from scipy import stats\n",
        "import numpy as np\n",
        "np.random.seed(42)\n",
        "sample = stats.norm.rvs(loc=50, scale=10, size=100)\n",
        "standard_error = stats.sem(sample)\n",
        "print(f\"Sample : {sample}\")\n",
        "print(f\"SE : {standard_error}\")"
      ],
      "metadata": {
        "id": "9x3LO7H7EetT"
      },
      "execution_count": null,
      "outputs": []
    },
    {
      "cell_type": "markdown",
      "source": [
        "\n",
        "\n",
        "\n",
        "---\n",
        "\n",
        "\n",
        "\n",
        "---\n",
        "\n",
        "\n",
        "---\n",
        "\n",
        "\n",
        "\n",
        "---\n",
        "\n"
      ],
      "metadata": {
        "id": "8pzRpL6nWACf"
      }
    },
    {
      "cell_type": "markdown",
      "source": [
        "## EX7 : Margin of Error and Confidence Interval"
      ],
      "metadata": {
        "id": "wawhy3zefo_v"
      }
    },
    {
      "cell_type": "code",
      "source": [
        "import numpy as np\n",
        "import scipy.stats as stats\n",
        "mean_estimate = 50\n",
        "np.random.seed(42)\n",
        "sample = np.random.normal(loc=mean_estimate, scale=10, size=100)\n",
        "sample_mean = np.mean(sample)\n",
        "\n",
        "margin_of_error = 3\n",
        "confidence_interval = stats.norm.interval(0.99, loc=sample_mean, scale=margin_of_error/np.sqrt(len(sample)))\n",
        "print(f\"Sample Mean : {sample_mean}\")\n",
        "print(f\"Confidence Interval 95٪: {confidence_interval}\")"
      ],
      "metadata": {
        "id": "TdqDapJVEfSr",
        "colab": {
          "base_uri": "https://localhost:8080/"
        },
        "outputId": "effcfff7-5ed5-4377-f94a-fd81c7ab4ca7"
      },
      "execution_count": null,
      "outputs": [
        {
          "output_type": "stream",
          "name": "stdout",
          "text": [
            "Sample Mean : 48.96153482605907\n",
            "Confidence Interval 95٪: (48.1887860349944, 49.734283617123744)\n"
          ]
        }
      ]
    },
    {
      "cell_type": "code",
      "source": [],
      "metadata": {
        "id": "oQ48lEheXqYJ"
      },
      "execution_count": null,
      "outputs": []
    }
  ],
  "metadata": {
    "colab": {
      "provenance": [],
      "collapsed_sections": [
        "knYn0_6L1wCK",
        "Ff4jB6wPrXqJ",
        "k0TGMxV2rbM6",
        "hcwnD1P-sa-r",
        "bJB3OqI_wBaV",
        "YbXxHJehRnUx",
        "qyVT9jxlR-7R",
        "3jkBdfJFWbJA",
        "ewdofCqJW9rv",
        "wawhy3zefo_v"
      ]
    },
    "kernelspec": {
      "display_name": "Python 3",
      "name": "python3"
    },
    "language_info": {
      "name": "python"
    }
  },
  "nbformat": 4,
  "nbformat_minor": 0
}