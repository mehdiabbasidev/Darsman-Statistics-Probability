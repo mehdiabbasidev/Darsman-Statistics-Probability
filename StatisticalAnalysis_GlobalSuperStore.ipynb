{
  "nbformat": 4,
  "nbformat_minor": 0,
  "metadata": {
    "colab": {
      "provenance": []
    },
    "kernelspec": {
      "name": "python3",
      "display_name": "Python 3"
    },
    "language_info": {
      "name": "python"
    }
  },
  "cells": [
    {
      "cell_type": "code",
      "execution_count": null,
      "metadata": {
        "id": "9sWLQ0NKPxkq",
        "colab": {
          "base_uri": "https://localhost:8080/"
        },
        "outputId": "be92a5b6-575a-4f7c-9bc2-55724aa4a9b7"
      },
      "outputs": [
        {
          "output_type": "stream",
          "name": "stdout",
          "text": [
            "Mounted at /content/drive\n"
          ]
        }
      ],
      "source": [
        "from google.colab import drive\n",
        "drive.mount('/content/drive')"
      ]
    },
    {
      "cell_type": "code",
      "source": [
        "import pandas as pd\n",
        "import numpy as np\n",
        "import matplotlib.pyplot as plt"
      ],
      "metadata": {
        "id": "Wyjgz5uwBYIr"
      },
      "execution_count": null,
      "outputs": []
    },
    {
      "cell_type": "code",
      "source": [
        "data=pd.read_excel('/content/drive/MyDrive/datasets/GlobalSuperstoreOrders2016.xlsx')"
      ],
      "metadata": {
        "id": "MPhY8iIdBlLR"
      },
      "execution_count": null,
      "outputs": []
    },
    {
      "cell_type": "code",
      "source": [
        "data.head(10)"
      ],
      "metadata": {
        "id": "mhU9MSeGB5zj"
      },
      "execution_count": null,
      "outputs": []
    },
    {
      "cell_type": "code",
      "source": [
        "data.shape"
      ],
      "metadata": {
        "colab": {
          "base_uri": "https://localhost:8080/"
        },
        "id": "pmN6SZwxB5qs",
        "outputId": "9a572321-e225-4bb2-dbdc-f2da0a994512"
      },
      "execution_count": null,
      "outputs": [
        {
          "output_type": "execute_result",
          "data": {
            "text/plain": [
              "(51290, 24)"
            ]
          },
          "metadata": {},
          "execution_count": 7
        }
      ]
    },
    {
      "cell_type": "code",
      "source": [
        "data.columns"
      ],
      "metadata": {
        "colab": {
          "base_uri": "https://localhost:8080/"
        },
        "id": "KZ3L289NCEl1",
        "outputId": "0290256a-c44b-4875-934c-502174b94d43"
      },
      "execution_count": null,
      "outputs": [
        {
          "output_type": "execute_result",
          "data": {
            "text/plain": [
              "Index(['Row ID', 'Order ID', 'Order Date', 'Ship Date', 'Ship Mode',\n",
              "       'Customer ID', 'Customer Name', 'Segment', 'Postal Code', 'City',\n",
              "       'State', 'Country', 'Region', 'Market', 'Product ID', 'Category',\n",
              "       'Sub-Category', 'Product Name', 'Sales', 'Quantity', 'Discount',\n",
              "       'Profit', 'Shipping Cost', 'Order Priority'],\n",
              "      dtype='object')"
            ]
          },
          "metadata": {},
          "execution_count": 8
        }
      ]
    },
    {
      "cell_type": "code",
      "source": [
        "pd.DataFrame({'Col':data.columns})"
      ],
      "metadata": {
        "id": "DiT6j7U2CfiB"
      },
      "execution_count": null,
      "outputs": []
    },
    {
      "cell_type": "code",
      "source": [
        "data['Sales'].describe()"
      ],
      "metadata": {
        "colab": {
          "base_uri": "https://localhost:8080/"
        },
        "id": "FZsUIWSvDlGx",
        "outputId": "32b60b67-b1bb-4363-cac2-8ef4857060e7"
      },
      "execution_count": null,
      "outputs": [
        {
          "output_type": "execute_result",
          "data": {
            "text/plain": [
              "count    51290.000000\n",
              "mean       246.490581\n",
              "std        487.565361\n",
              "min          0.444000\n",
              "25%         30.758625\n",
              "50%         85.053000\n",
              "75%        251.053200\n",
              "max      22638.480000\n",
              "Name: Sales, dtype: float64"
            ]
          },
          "metadata": {},
          "execution_count": 13
        }
      ]
    },
    {
      "cell_type": "code",
      "source": [
        "data['Ship Date'].dtypes"
      ],
      "metadata": {
        "colab": {
          "base_uri": "https://localhost:8080/"
        },
        "id": "oc2jGOftD4Rf",
        "outputId": "13ca4545-19ad-46cf-efcb-ef1aad7f6280"
      },
      "execution_count": null,
      "outputs": [
        {
          "output_type": "execute_result",
          "data": {
            "text/plain": [
              "dtype('<M8[ns]')"
            ]
          },
          "metadata": {},
          "execution_count": 17
        }
      ]
    },
    {
      "cell_type": "code",
      "source": [
        "data['Sales'].count()"
      ],
      "metadata": {
        "colab": {
          "base_uri": "https://localhost:8080/"
        },
        "id": "AwUVMbKhEGEz",
        "outputId": "2b80d2ec-5e6f-46e3-da33-4d661ec0a9e7"
      },
      "execution_count": null,
      "outputs": [
        {
          "output_type": "execute_result",
          "data": {
            "text/plain": [
              "51290"
            ]
          },
          "metadata": {},
          "execution_count": 19
        }
      ]
    },
    {
      "cell_type": "code",
      "source": [
        "data['Country'].count()"
      ],
      "metadata": {
        "colab": {
          "base_uri": "https://localhost:8080/"
        },
        "id": "-Pj46ukBEr2B",
        "outputId": "27f75739-6475-4628-96c1-64acd76d86a8"
      },
      "execution_count": null,
      "outputs": [
        {
          "output_type": "execute_result",
          "data": {
            "text/plain": [
              "51290"
            ]
          },
          "metadata": {},
          "execution_count": 20
        }
      ]
    },
    {
      "cell_type": "code",
      "source": [
        "data['Country'].value_counts()"
      ],
      "metadata": {
        "colab": {
          "base_uri": "https://localhost:8080/"
        },
        "id": "ph-mRmSEEyj0",
        "outputId": "dc477bcb-5dea-440b-fbd7-4c4f4e767917"
      },
      "execution_count": null,
      "outputs": [
        {
          "output_type": "execute_result",
          "data": {
            "text/plain": [
              "United States    9994\n",
              "Australia        2837\n",
              "France           2827\n",
              "Mexico           2635\n",
              "Germany          2063\n",
              "                 ... \n",
              "Bhutan              1\n",
              "Malawi              1\n",
              "Kuwait              1\n",
              "Suriname            1\n",
              "The Gambia          1\n",
              "Name: Country, Length: 165, dtype: int64"
            ]
          },
          "metadata": {},
          "execution_count": 21
        }
      ]
    },
    {
      "cell_type": "code",
      "source": [
        "data['City'].value_counts()"
      ],
      "metadata": {
        "colab": {
          "base_uri": "https://localhost:8080/"
        },
        "id": "XhxLpBVyE6vv",
        "outputId": "c1bfe6f8-b754-4aec-a24a-ab9fd653c14a"
      },
      "execution_count": null,
      "outputs": [
        {
          "output_type": "execute_result",
          "data": {
            "text/plain": [
              "New York City     915\n",
              "Los Angeles       747\n",
              "Philadelphia      537\n",
              "San Francisco     510\n",
              "Santo Domingo     443\n",
              "                 ... \n",
              "Caraguatatuba       1\n",
              "Arad                1\n",
              "Tatuí               1\n",
              "Maidstone           1\n",
              "Victoria Falls      1\n",
              "Name: City, Length: 3650, dtype: int64"
            ]
          },
          "metadata": {},
          "execution_count": 22
        }
      ]
    },
    {
      "cell_type": "code",
      "source": [
        "data['City'].value_counts().max()"
      ],
      "metadata": {
        "colab": {
          "base_uri": "https://localhost:8080/"
        },
        "id": "XDhwT6LJFJen",
        "outputId": "7601148c-5222-458f-b877-78841fcaa64a"
      },
      "execution_count": null,
      "outputs": [
        {
          "output_type": "execute_result",
          "data": {
            "text/plain": [
              "915"
            ]
          },
          "metadata": {},
          "execution_count": 24
        }
      ]
    },
    {
      "cell_type": "code",
      "source": [
        "data['City'].value_counts().idxmax()"
      ],
      "metadata": {
        "colab": {
          "base_uri": "https://localhost:8080/",
          "height": 35
        },
        "id": "Kwr-c01nFOgt",
        "outputId": "7c15eef3-ea8f-4cb0-ffba-42f218254f9c"
      },
      "execution_count": null,
      "outputs": [
        {
          "output_type": "execute_result",
          "data": {
            "text/plain": [
              "'New York City'"
            ],
            "application/vnd.google.colaboratory.intrinsic+json": {
              "type": "string"
            }
          },
          "metadata": {},
          "execution_count": 25
        }
      ]
    },
    {
      "cell_type": "code",
      "source": [
        "data['Country'].value_counts().idxmax()"
      ],
      "metadata": {
        "colab": {
          "base_uri": "https://localhost:8080/",
          "height": 35
        },
        "id": "xE-xmgNRFZjY",
        "outputId": "b4f069f2-30f8-4073-d4e0-73a6a03b860f"
      },
      "execution_count": null,
      "outputs": [
        {
          "output_type": "execute_result",
          "data": {
            "text/plain": [
              "'United States'"
            ],
            "application/vnd.google.colaboratory.intrinsic+json": {
              "type": "string"
            }
          },
          "metadata": {},
          "execution_count": 26
        }
      ]
    },
    {
      "cell_type": "code",
      "source": [
        "data['Country'].value_counts().max()"
      ],
      "metadata": {
        "colab": {
          "base_uri": "https://localhost:8080/"
        },
        "id": "hQtq47qvFgHJ",
        "outputId": "cefdd89b-a82f-471d-c7ab-bde7554ad946"
      },
      "execution_count": null,
      "outputs": [
        {
          "output_type": "execute_result",
          "data": {
            "text/plain": [
              "9994"
            ]
          },
          "metadata": {},
          "execution_count": 27
        }
      ]
    },
    {
      "cell_type": "code",
      "source": [
        "data['Sales'].mean()"
      ],
      "metadata": {
        "colab": {
          "base_uri": "https://localhost:8080/"
        },
        "id": "LyHr60yhFjE5",
        "outputId": "5f715e1e-d9a6-4e40-c603-054e6fe22cbf"
      },
      "execution_count": null,
      "outputs": [
        {
          "output_type": "execute_result",
          "data": {
            "text/plain": [
              "246.4905812025736"
            ]
          },
          "metadata": {},
          "execution_count": 28
        }
      ]
    },
    {
      "cell_type": "code",
      "source": [
        "data['Sales'].median()"
      ],
      "metadata": {
        "colab": {
          "base_uri": "https://localhost:8080/"
        },
        "id": "Gxft2Vt0FtsZ",
        "outputId": "930d8b24-2e26-4aac-f580-c7b65af76fb1"
      },
      "execution_count": null,
      "outputs": [
        {
          "output_type": "execute_result",
          "data": {
            "text/plain": [
              "85.053"
            ]
          },
          "metadata": {},
          "execution_count": 29
        }
      ]
    },
    {
      "cell_type": "code",
      "source": [
        "data['Sales'].min()"
      ],
      "metadata": {
        "colab": {
          "base_uri": "https://localhost:8080/"
        },
        "id": "rMpUAE8fFwcT",
        "outputId": "1708e5cd-eae9-47cc-da76-a4ea7873eb26"
      },
      "execution_count": null,
      "outputs": [
        {
          "output_type": "execute_result",
          "data": {
            "text/plain": [
              "0.44399999999999995"
            ]
          },
          "metadata": {},
          "execution_count": 30
        }
      ]
    },
    {
      "cell_type": "code",
      "source": [
        "data['Sales'].max()"
      ],
      "metadata": {
        "colab": {
          "base_uri": "https://localhost:8080/"
        },
        "id": "8s18zp3OF4fZ",
        "outputId": "4af30ea3-3a39-45b6-90b1-662b03a30a42"
      },
      "execution_count": null,
      "outputs": [
        {
          "output_type": "execute_result",
          "data": {
            "text/plain": [
              "22638.48"
            ]
          },
          "metadata": {},
          "execution_count": 31
        }
      ]
    },
    {
      "cell_type": "code",
      "source": [
        "data['Order Priority'].unique()"
      ],
      "metadata": {
        "colab": {
          "base_uri": "https://localhost:8080/"
        },
        "id": "Ywn_4_LBF-u2",
        "outputId": "0342b044-fc32-4e07-df22-08e7fa4cf220"
      },
      "execution_count": null,
      "outputs": [
        {
          "output_type": "execute_result",
          "data": {
            "text/plain": [
              "array(['High', 'Critical', 'Medium', 'Low'], dtype=object)"
            ]
          },
          "metadata": {},
          "execution_count": 35
        }
      ]
    },
    {
      "cell_type": "code",
      "source": [
        "data['Category'].unique()"
      ],
      "metadata": {
        "colab": {
          "base_uri": "https://localhost:8080/"
        },
        "id": "FkX90VjTGd3z",
        "outputId": "7144882b-4fb1-4711-9251-48f9592264e7"
      },
      "execution_count": null,
      "outputs": [
        {
          "output_type": "execute_result",
          "data": {
            "text/plain": [
              "array(['Technology', 'Furniture', 'Office Supplies'], dtype=object)"
            ]
          },
          "metadata": {},
          "execution_count": 37
        }
      ]
    },
    {
      "cell_type": "code",
      "source": [
        "data.corr(method='pearson',numeric_only=True)"
      ],
      "metadata": {
        "id": "LKL0s2LaIpSj"
      },
      "execution_count": null,
      "outputs": []
    },
    {
      "cell_type": "code",
      "source": [
        "np.corrcoef(data['Sales'],data['Quantity'])"
      ],
      "metadata": {
        "id": "SuL-a95EtmX9"
      },
      "execution_count": null,
      "outputs": []
    },
    {
      "cell_type": "code",
      "source": [
        "data['Country'].unique()"
      ],
      "metadata": {
        "colab": {
          "base_uri": "https://localhost:8080/"
        },
        "id": "LQbqSonMubgA",
        "outputId": "1308f20b-5743-47ab-f468-53bcc00dcc12"
      },
      "execution_count": null,
      "outputs": [
        {
          "output_type": "execute_result",
          "data": {
            "text/plain": [
              "array(['United States', 'Australia', 'Germany', 'Senegal', 'New Zealand',\n",
              "       'Afghanistan', 'Saudi Arabia', 'Brazil', 'China', 'France',\n",
              "       'Italy', 'Tanzania', 'Poland', 'United Kingdom', 'Mexico',\n",
              "       'El Salvador', 'Taiwan', 'India', 'Dominican Republic',\n",
              "       'Democratic Republic of the Congo', 'Indonesia', 'Uruguay', 'Iran',\n",
              "       'Mozambique', 'Bangladesh', 'Spain', 'Ukraine', 'Nicaragua',\n",
              "       'Morocco', 'Philippines', 'Austria', 'Colombia', 'Netherlands',\n",
              "       'Malaysia', 'Ecuador', 'Thailand', 'Somalia', 'Guatemala',\n",
              "       'Belarus', 'Cambodia', 'South Africa', 'Canada', 'Japan', 'Russia',\n",
              "       'Egypt', 'Azerbaijan', 'Lithuania', 'Argentina', 'Lesotho',\n",
              "       'Vietnam', 'Cuba', 'Romania', 'Turkey', 'Cameroon', 'Hungary',\n",
              "       'Singapore', 'Angola', 'Belgium', 'Pakistan', 'Finland', 'Ghana',\n",
              "       'Zambia', 'Iraq', 'Liberia', 'Georgia', 'Switzerland', 'Albania',\n",
              "       'Chad', 'Montenegro', 'Namibia', 'Portugal', 'Madagascar',\n",
              "       'Sweden', 'Myanmar (Burma)', 'Jamaica', 'Greece', 'Qatar',\n",
              "       'Republic of the Congo', 'Norway', 'Algeria', 'South Korea',\n",
              "       'Nigeria', 'Estonia', \"Cote d'Ivoire\", 'Honduras', 'Paraguay',\n",
              "       'Czech Republic', 'Central African Republic', 'Benin', 'Bolivia',\n",
              "       'Chile', 'Martinique', 'Syria', 'Lebanon', 'Kenya', 'Mali',\n",
              "       'Libya', 'Venezuela', 'Trinidad and Tobago', 'Ireland', 'Bulgaria',\n",
              "       'Panama', 'Israel', 'Haiti', 'Barbados', 'Slovenia', 'Togo',\n",
              "       'Mauritania', 'Burkina Faso', 'Guinea', 'Rwanda', 'Denmark',\n",
              "       'Niger', 'Papua New Guinea', 'Mongolia', 'Sudan', 'Kuwait', 'Peru',\n",
              "       'Sierra Leone', 'Luxembourg', 'Bosnia and Herzegovina',\n",
              "       'Guinea-Bissau', 'Djibouti', 'Tunisia', 'Croatia', 'Hong Kong',\n",
              "       'Nepal', 'Guadeloupe', 'Kyrgyzstan', 'Zimbabwe', 'Uzbekistan',\n",
              "       'South Sudan', 'Malawi', 'Gabon', 'Bahrain', 'Yemen', 'Jordan',\n",
              "       'United Arab Emirates', 'Moldova', 'Costa Rica', 'Swaziland',\n",
              "       'Western Sahara', 'Guyana', 'Serbia', 'Turkmenistan', 'Laos',\n",
              "       'Kazakhstan', 'Botswana', 'Ethiopia', 'Uganda', 'Slovakia',\n",
              "       'Sri Lanka', 'French Guiana', 'Tajikistan', 'Burundi', 'Bhutan',\n",
              "       'Macedonia', 'Eritrea', 'Equatorial Guinea', 'Belize', 'Armenia',\n",
              "       'Oman', 'Cyprus', 'Suriname', 'The Gambia'], dtype=object)"
            ]
          },
          "metadata": {},
          "execution_count": 47
        }
      ]
    },
    {
      "cell_type": "code",
      "source": [
        "pd.crosstab(index=data['Country'],columns=data['Category'],values=data['Sales'],aggfunc='count',margins=True,margins_name='Total Count')"
      ],
      "metadata": {
        "id": "IpYyaihatuVE"
      },
      "execution_count": null,
      "outputs": []
    },
    {
      "cell_type": "code",
      "source": [
        "pd.pivot_table(data,index=data['Country'],columns=data['Category'],values=['Sales','Quantity'],aggfunc='max')"
      ],
      "metadata": {
        "id": "tuOFq6CXvA-Q"
      },
      "execution_count": null,
      "outputs": []
    },
    {
      "cell_type": "code",
      "source": [
        "x_values=data['Sales']\n",
        "plt.hist(x=x_values,bins='auto',facecolor='yellow')\n",
        "plt.xlim(xmin=0,xmax=2000)\n",
        "plt.ylim(ymax=5000)\n",
        "plt.xticks(np.arange(0,2000,300))\n",
        "plt.show()"
      ],
      "metadata": {
        "colab": {
          "base_uri": "https://localhost:8080/",
          "height": 435
        },
        "id": "KSNzAwIywIxj",
        "outputId": "088500d2-787d-49ca-b3b2-12a616fda422"
      },
      "execution_count": null,
      "outputs": [
        {
          "output_type": "display_data",
          "data": {
            "text/plain": [
              "<Figure size 640x480 with 1 Axes>"
            ],
            "image/png": "[encoded data removed]"
          },
          "metadata": {}
        }
      ]
    },
    {
      "cell_type": "code",
      "source": [],
      "metadata": {
        "id": "DMocrcp7xs7t"
      },
      "execution_count": null,
      "outputs": []
    }
  ]
}